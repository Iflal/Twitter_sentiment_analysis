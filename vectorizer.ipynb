{
 "cells": [
  {
   "cell_type": "code",
   "execution_count": 3,
   "metadata": {},
   "outputs": [
    {
     "name": "stdout",
     "output_type": "stream",
     "text": [
      "Vectorizer saved successfully as 'vectorizer.sav'\n"
     ]
    }
   ],
   "source": [
    "import joblib\n",
    "from sklearn.feature_extraction.text import TfidfVectorizer\n",
    "import pandas as pd\n",
    "\n",
    "# Step 1: Load your training dataset (replace this with your actual data)\n",
    "# Assuming the dataset has a 'text' column with the tweet/text content\n",
    "#naming thr columns and reading the dataset again\n",
    "\n",
    "column_names = ['target', 'id' , 'date', 'flag', 'user', 'text']\n",
    "data = pd.read_csv('training.1600000.processed.noemoticon.csv', names = column_names , encoding='ISO-8859-1')\n",
    "\n",
    "# Step 2: Extract the text column (assuming 'text' is the column name)\n",
    "texts = data['text']\n",
    "\n",
    "# Step 3: Create and fit the TfidfVectorizer (you can adjust max_features if needed)\n",
    "vectorizer = TfidfVectorizer(max_features=5000)  # Adjust max_features as needed\n",
    "vectorizer.fit(texts)\n",
    "\n",
    "# Step 4: Save the vectorizer as 'vectorizer.sav' to use it later\n",
    "joblib.dump(vectorizer, 'vectorizer.sav')\n",
    "\n",
    "print(\"Vectorizer saved successfully as 'vectorizer.sav'\")\n"
   ]
  },
  {
   "cell_type": "code",
   "execution_count": null,
   "metadata": {},
   "outputs": [],
   "source": []
  }
 ],
 "metadata": {
  "kernelspec": {
   "display_name": "Python 3",
   "language": "python",
   "name": "python3"
  },
  "language_info": {
   "codemirror_mode": {
    "name": "ipython",
    "version": 3
   },
   "file_extension": ".py",
   "mimetype": "text/x-python",
   "name": "python",
   "nbconvert_exporter": "python",
   "pygments_lexer": "ipython3",
   "version": "3.9.19"
  }
 },
 "nbformat": 4,
 "nbformat_minor": 2
}
